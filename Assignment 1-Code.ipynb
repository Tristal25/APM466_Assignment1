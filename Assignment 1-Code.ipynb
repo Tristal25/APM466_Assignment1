{
 "cells": [
  {
   "cell_type": "code",
   "execution_count": 409,
   "metadata": {},
   "outputs": [],
   "source": [
    "# import packages\n",
    "import pandas as pd\n",
    "import numpy as np\n",
    "import os\n",
    "import matplotlib.pyplot as plt\n",
    "from scipy.optimize import root \n",
    "import scipy.linalg as la\n",
    "from scipy.interpolate import UnivariateSpline as spline\n",
    "from datetime import datetime\n",
    "from datetime import timedelta\n",
    "from dateutil import relativedelta as rd"
   ]
  },
  {
   "cell_type": "code",
   "execution_count": 348,
   "metadata": {},
   "outputs": [],
   "source": [
    "# Import and initialize data\n",
    "folder_path = os.getcwd()\n",
    "\n",
    "file_path = os.path.join(folder_path, '10bonds.csv')\n",
    "\n",
    "data_orig = pd.read_csv(file_path)\n",
    "\n",
    "days = ['2021/01/18', '2021/01/19', '2021/01/20', '2021/01/21', '2021/01/22',\n",
    "        '2021/01/25', '2021/01/26', '2021/01/27', '2021/01/28', '2021/01/29']\n"
   ]
  },
  {
   "cell_type": "code",
   "execution_count": 349,
   "metadata": {},
   "outputs": [],
   "source": [
    "# Data cleaning\n",
    "data = {}\n",
    "for d in days:\n",
    "    data_d = {\"ISIN\" : list(data_orig[\"ISIN\"]),\n",
    "              \"clean_price\": [float(t) for t in list(data_orig[d])],\n",
    "              \"coupon\": [float(a.split('%')[0]) for a in list(data_orig[\"coupon\"])],\n",
    "              \"issue_date\" : [datetime.strptime(t, '%Y/%m/%d') for t in list(data_orig['issue_date'])], \n",
    "              \"maturity_date\" : [datetime.strptime(t, '%Y/%m/%d') for t in list(data_orig['maturity_date'])] \n",
    "             }\n",
    "    data[d] = pd.DataFrame(data_d)\n"
   ]
  },
  {
   "cell_type": "code",
   "execution_count": 350,
   "metadata": {},
   "outputs": [],
   "source": [
    "# Yield to maturity\n",
    "\n",
    "## Given specific time date of clean price collection, \n",
    "##   list all dates of issuing coupons in the future, also the last payment, time to maturity\n",
    "\n",
    "def coupon_dates(data,d):\n",
    "    \n",
    "    data_d = data[d]\n",
    "    coupon_dates = []\n",
    "    now = datetime.strptime(d, '%Y/%m/%d')\n",
    "    period = rd.relativedelta(months = 6)               #coupon period\n",
    "    last_coupon = []\n",
    "    time_to_maturity = []\n",
    "    \n",
    "    for i in range(10):                                 #loop over 10 bonds\n",
    "        issue = data_d.issue_date[i]                    #issue date of bond i\n",
    "        maturity = data_d.maturity_date[i]              #maturity date of bond i\n",
    "        to_coupon = maturity - now                      #time to maturity, or coupon\n",
    "        time_to_maturity.append(to_coupon)\n",
    "        coupon_day = maturity            #last coupon day, maturity date\n",
    "        to_issue=[]\n",
    "        \n",
    "        while to_coupon.days > 0:   #loop over all not yet issued coupon\n",
    "            to_issue.append(coupon_day)\n",
    "            coupon_day = coupon_day - period\n",
    "            to_coupon = coupon_day - now\n",
    "            \n",
    "        coupon_dates.append(to_issue)\n",
    "        last_coupon.append(coupon_day)\n",
    "        \n",
    "            \n",
    "    return coupon_dates, last_coupon, time_to_maturity\n"
   ]
  },
  {
   "cell_type": "code",
   "execution_count": 366,
   "metadata": {},
   "outputs": [],
   "source": [
    "## Calculate the dirty price\n",
    "\n",
    "def dirty_price(data,d):\n",
    "    \n",
    "    data_d = data[d]\n",
    "    now = datetime.strptime(d, '%Y/%m/%d')\n",
    "    dirty_price = []\n",
    "    \n",
    "    for i in range(10):\n",
    "        clean_price = data_d.clean_price[i]\n",
    "        next_coupon = data_d.future_coupons[i][-1]\n",
    "        last_coupon = data_d.last_coupon[i]\n",
    "        period = (next_coupon - last_coupon).days\n",
    "        coupon_rate = data_d.coupon[i]\n",
    "        n = (now-last_coupon).days\n",
    "\n",
    "        acc_interest = coupon_rate*n/365\n",
    "        dirty = clean_price + acc_interest\n",
    "\n",
    "        dirty_price.append(dirty)\n",
    "    \n",
    "    return dirty_price\n",
    "        \n",
    "    "
   ]
  },
  {
   "cell_type": "code",
   "execution_count": 367,
   "metadata": {},
   "outputs": [],
   "source": [
    "## Calculate yield to maturity\n",
    "\n",
    "def ytm(data,d):\n",
    "    \n",
    "    data_d = data[d]\n",
    "    dates = data_d.maturity_date\n",
    "    price = data_d.dirty_price\n",
    "    future = data_d.future_coupons\n",
    "    coupon = data_d.coupon/2\n",
    "    T = data_d.time_to_maturity\n",
    "    now = datetime.strptime(\"2021/02/01\", '%Y/%m/%d')\n",
    "    \n",
    "    years = [0]+[(k - now).days/365 for k in dates]\n",
    "    ytm = [0]\n",
    "    \n",
    "    for i in range(10):\n",
    "        time = np.sort([(k - now).days/365*2 for k in future[i]])\n",
    "        P = price[i]\n",
    "        pi = np.array([coupon[i]]*(len(time)-1)+[coupon[i]+100])\n",
    "        def y(r):\n",
    "            return np.dot(pi, 1/(1+r/2)**time)-P\n",
    "        ytm.append(root(y,0).x[0])\n",
    "    \n",
    "    ytm_rate = pd.DataFrame({\"rate\": ytm,\n",
    "                       \"time\": years})\n",
    "    \n",
    "    return ytm_rate\n",
    "    \n",
    "    \n",
    "    "
   ]
  },
  {
   "cell_type": "code",
   "execution_count": 368,
   "metadata": {},
   "outputs": [],
   "source": [
    "## Calculate spot rate\n",
    "\n",
    "def spot(data,d):\n",
    "    data_d = data[d]\n",
    "    dates = data_d.maturity_date\n",
    "    price = data_d.dirty_price\n",
    "    future = data_d.future_coupons\n",
    "    coupon = data_d.coupon/2\n",
    "    T = data_d.time_to_maturity\n",
    "    now = datetime.strptime(\"2021/02/01\", '%Y/%m/%d')\n",
    "    \n",
    "    years = [0]+[(k - now).days/365 for k in dates]\n",
    "    spot = [0]\n",
    "\n",
    "\n",
    "    # 2021-08-01\n",
    "    time = np.sort([(k - now).days/365*2 for k in future[0]])\n",
    "    P = price[0]\n",
    "    p0 = np.array([coupon[0]]*(len(time)-1)+[coupon[0]+100])\n",
    "    def y(r):\n",
    "        return np.dot(p0, 1/(1+r/2)**time)-P\n",
    "    spot.append(root(y,0).x[0])\n",
    "    \n",
    "    # 2022-02-02 to 2023-02-01\n",
    "\n",
    "    for i in [1,2,3]:\n",
    "        time = np.sort([(k - now).days/365*2 for k in future[i]])\n",
    "        P = price[i]\n",
    "        pi = np.array([coupon[i]]*(len(time)-1)+[coupon[i]+100])\n",
    "        def y(r):\n",
    "            return (np.dot(pi, 1/(1+np.array(spot +[r])/2)**time)-P)\n",
    "        spot.append(root(y,0).x[0])\n",
    "        \n",
    "    # 2023-06-01\n",
    "    fnc = spline(years[:5],spot)\n",
    "    time = np.sort([(k - now).days/365*2 for k in future[4]])\n",
    "    rates4 = fnc(time[:-1])\n",
    "    p4 = np.array([coupon[4]]*(len(time)-1)+[coupon[4]+100])\n",
    "    P = price[4]\n",
    "    def y(r):\n",
    "        rates = np.array(list(rates4)+[r])\n",
    "        return (np.dot(p4, 1/(1+rates/2)**time)-P)\n",
    "    spot.append(root(y,0).x[0])\n",
    "    \n",
    "    # 2024-03-01\n",
    "    fnc = spline(years[:6],spot)\n",
    "    time = np.sort([(k - now).days/365*2 for k in future[5]])\n",
    "    rates5 = fnc(time[:-2])\n",
    "    p5 = np.array([coupon[5]]*(len(time)-1)+[coupon[5]+100])\n",
    "    P = price[5]\n",
    "    def y(r):\n",
    "        rates = np.array(list(rates5)+ [(r+rates5[-1])/2,r])\n",
    "        return (np.dot(p5, 1/(1+rates/2)**time)-P)\n",
    "    spot.append(root(y,0).x[0])\n",
    "    \n",
    "    # 2024-09-01 to 2026-03-01\n",
    "    \n",
    "    for i in [6,7,8,9]:\n",
    "        fnc = spline(years[:(i+1)],spot)\n",
    "        time = np.sort([(k - now).days/365*2 for k in future[i]])\n",
    "        ratesi = fnc(time[:-1])\n",
    "        pi = np.array([coupon[i]]*(len(time)-1)+[coupon[i]+100])\n",
    "        P = price[i]\n",
    "        def y(r):\n",
    "            rates = np.array(list(ratesi)+[r])\n",
    "            return (np.dot(pi, 1/(1+rates/2)**time)-P)\n",
    "        spot.append(root(y,0).x[0])\n",
    "    \n",
    "    spot_rate = pd.DataFrame({\"rate\": spot,\n",
    "                       \"time\": years})\n",
    "    \n",
    "    return spot_rate\n",
    "    \n",
    "    \n"
   ]
  },
  {
   "cell_type": "code",
   "execution_count": 371,
   "metadata": {},
   "outputs": [],
   "source": [
    "# Calculate forward rate\n",
    "\n",
    "def forward(data,d):\n",
    "    \n",
    "    spot_rate = spot_data[d].rate\n",
    "    time_rate = spot_data[d].time\n",
    "    spot_line = spline(time_rate, spot_rate)\n",
    "    \n",
    "    years = [1,2,3,4,5]\n",
    "    spot = list(spot_line(years))\n",
    "    time = [1,2,3,4]\n",
    "    forward = []\n",
    "\n",
    "    for i in range(4):\n",
    "        f = (spot[i+1]+1)**(i+2)/(spot[i]+1)**(i+1)-1\n",
    "        forward.append(f)\n",
    "\n",
    "    forward_rate = pd.DataFrame({\"rate\": forward,\n",
    "                       \"time\": time})\n",
    "    return forward_rate\n",
    "    \n"
   ]
  },
  {
   "cell_type": "code",
   "execution_count": 372,
   "metadata": {},
   "outputs": [],
   "source": [
    "# Do the functions\n",
    "\n",
    "spot_data = {}\n",
    "ytm_data = {}\n",
    "forward_data = {}\n",
    "for d in days:\n",
    "    data[d][\"future_coupons\"],data[d][\"last_coupon\"], data[d][\"time_to_maturity\"] = coupon_dates(data,d)\n",
    "    data[d][\"dirty_price\"] = dirty_price(data,d)\n",
    "    spot_data[d] = spot(data,d)\n",
    "    ytm_data[d] = ytm(data,d)\n",
    "    forward_data[d] = forward(data,d)\n"
   ]
  },
  {
   "cell_type": "code",
   "execution_count": 373,
   "metadata": {},
   "outputs": [
    {
     "data": {
      "image/png": "[encoded data removed]",
      "text/plain": [
       "<Figure size 432x288 with 1 Axes>"
      ]
     },
     "metadata": {
      "needs_background": "light"
     },
     "output_type": "display_data"
    }
   ],
   "source": [
    "# Plot the yield curves\n",
    "\n",
    "for d in days:\n",
    "    \n",
    "    ytm = ytm_data[d].rate\n",
    "    years = ytm_data[d].time\n",
    "    ytm_line = spline(years,ytm)\n",
    "    new_years = np.linspace(0, 5, num=1000, endpoint=True)\n",
    "    new_ytm = ytm_line(new_years)\n",
    "    plt.plot(new_years, new_ytm, label = d)\n",
    "    \n",
    "plt.legend(loc='best')\n",
    "plt.xlabel(\"years\")\n",
    "plt.ylabel(\"yield to maturity\")\n",
    "plt.title(\"Yield to Maturity Curve\")\n",
    "\n",
    "plt.savefig('YTM.png')\n",
    "\n",
    "plt.show()"
   ]
  },
  {
   "cell_type": "code",
   "execution_count": 374,
   "metadata": {},
   "outputs": [
    {
     "data": {
      "image/png": "[encoded data removed]",
      "text/plain": [
       "<Figure size 432x288 with 1 Axes>"
      ]
     },
     "metadata": {
      "needs_background": "light"
     },
     "output_type": "display_data"
    }
   ],
   "source": [
    "# Plot the spot rate curves\n",
    "\n",
    "for d in days:\n",
    "    spot = spot_data[d].rate\n",
    "    years = spot_data[d].time\n",
    "    spot_line = spline(years,spot)\n",
    "    new_years = np.linspace(0, 5, num=1000, endpoint=True)\n",
    "    new_spot = spot_line(new_years)\n",
    "    plt.plot(new_years, new_spot, label = d)\n",
    "    \n",
    "plt.legend(loc='right')\n",
    "plt.xlabel(\"years\")\n",
    "plt.ylabel(\"spot rate\")\n",
    "plt.title(\"Spot Rate Curve\")\n",
    "\n",
    "plt.savefig('Spot.png')\n",
    "\n",
    "plt.show()\n",
    "\n"
   ]
  },
  {
   "cell_type": "code",
   "execution_count": 375,
   "metadata": {},
   "outputs": [
    {
     "data": {
      "image/png": "[encoded data removed]",
      "text/plain": [
       "<Figure size 432x288 with 1 Axes>"
      ]
     },
     "metadata": {
      "needs_background": "light"
     },
     "output_type": "display_data"
    }
   ],
   "source": [
    "# Plot the forward rate curves\n",
    "\n",
    "for d in days:\n",
    "    forward = forward_data[d].rate\n",
    "    years = forward_data[d].time\n",
    "    forward_line = spline(years,forward)\n",
    "    new_years = np.linspace(1,4, num=1000, endpoint=True)\n",
    "    new_forward = spot_line(new_years)\n",
    "    plt.plot(new_years, new_forward, label = d)\n",
    "    \n",
    "plt.legend(loc='right')\n",
    "plt.xlabel(\"years\")\n",
    "plt.ylabel(\"forward rate\")\n",
    "plt.title(\"Forward Curve\")\n",
    "\n",
    "plt.savefig('Forward.png')\n",
    "\n",
    "plt.show()"
   ]
  },
  {
   "cell_type": "code",
   "execution_count": 404,
   "metadata": {},
   "outputs": [],
   "source": [
    "# Calculating Covariance matrices\n",
    "\n",
    "def cov_matrix(rate_data, days):\n",
    "    \n",
    "\n",
    "    if len(rate_data[days[0]].rate) < 5:\n",
    "        time = [1,2,3,4]\n",
    "    else:\n",
    "        time = [1,2,3,4,5]\n",
    "        \n",
    "    R = []\n",
    "    \n",
    "    for d in days:\n",
    "        rate_raw = rate_data[d].rate\n",
    "        time_raw = rate_data[d].time\n",
    "        rate_curve = spline(time_raw, rate_raw)\n",
    "        rate = rate_curve(time)\n",
    "        R.append(rate)\n",
    "    \n",
    "    R = np.array(R).T\n",
    "    \n",
    "    X = []\n",
    "    for i in range(np.shape(R)[0]):\n",
    "        r = R[i,:]\n",
    "        xi = []\n",
    "        for j in range(np.shape(R)[1]-1):\n",
    "            xij = np.log(r[j+1]/r[j])\n",
    "            xi.append(xij)\n",
    "        X.append(xi)\n",
    "    \n",
    "    X = np.array(X)\n",
    "\n",
    "    mat = np.cov(X)\n",
    "    \n",
    "    return mat\n"
   ]
  },
  {
   "cell_type": "code",
   "execution_count": 414,
   "metadata": {},
   "outputs": [
    {
     "name": "stdout",
     "output_type": "stream",
     "text": [
      "[[ 1.75e-03  4.00e-05 -5.40e-04  4.00e-05]\n",
      " [ 4.00e-05  1.32e-03  1.56e-03  8.90e-04]\n",
      " [-5.40e-04  1.56e-03  2.32e-03  1.61e-03]\n",
      " [ 4.00e-05  8.90e-04  1.61e-03  1.71e-03]]\n",
      "[[0.00719 0.00453 0.00201 0.00045 0.00021]\n",
      " [0.00453 0.00304 0.00155 0.00056 0.00032]\n",
      " [0.00201 0.00155 0.00118 0.00089 0.00074]\n",
      " [0.00045 0.00056 0.00089 0.0011  0.00107]\n",
      " [0.00021 0.00032 0.00074 0.00107 0.00113]]\n"
     ]
    }
   ],
   "source": [
    "# Use the function\n",
    "ytm_cov = cov_matrix(ytm_data,days)\n",
    "forward_cov = cov_matrix(forward_data,days)\n",
    "print(np.matrix.round(forward_cov,5))\n",
    "print(np.matrix.round(ytm_cov,5))"
   ]
  },
  {
   "cell_type": "code",
   "execution_count": 424,
   "metadata": {},
   "outputs": [
    {
     "name": "stdout",
     "output_type": "stream",
     "text": [
      "[1.08911405e-02+0.j 2.54045118e-03+0.j 1.96994215e-04+0.j\n",
      " 8.21955876e-06+0.j 1.95844173e-08+0.j]\n",
      "[[-0.801 -0.251 -0.439 -0.313  0.064]\n",
      " [-0.524 -0.003  0.463  0.622 -0.352]\n",
      " [-0.263  0.381  0.526 -0.229  0.676]\n",
      " [-0.098  0.626  0.07  -0.475 -0.607]\n",
      " [-0.065  0.632 -0.558  0.487  0.218]]\n"
     ]
    }
   ],
   "source": [
    "# Calculating eigenvalues and eigenvectors of covariance matrices\n",
    "print(la.eig(ytm_cov)[0])\n",
    "print(np.matrix.round(la.eig(ytm_cov)[1],3))\n",
    "print(la.eig(forward_cov)[0])\n",
    "print(np.matrix.round(la.eig(forward_cov)[1],3))"
   ]
  },
  {
   "cell_type": "code",
   "execution_count": 425,
   "metadata": {},
   "outputs": [
    {
     "name": "stdout",
     "output_type": "stream",
     "text": [
      "[4.64894692e-03+0.j 1.81469931e-03+0.j 4.22367515e-07+0.j\n",
      " 6.27870674e-04+0.j]\n",
      "[[ 0.119  0.962  0.236 -0.07 ]\n",
      " [-0.467  0.155 -0.585 -0.644]\n",
      " [-0.702 -0.093  0.692 -0.141]\n",
      " [-0.524  0.205 -0.351  0.748]]\n"
     ]
    }
   ],
   "source": []
  },
  {
   "cell_type": "code",
   "execution_count": 394,
   "metadata": {},
   "outputs": [
    {
     "data": {
      "text/plain": [
       "5"
      ]
     },
     "execution_count": 394,
     "metadata": {},
     "output_type": "execute_result"
    }
   ],
   "source": []
  },
  {
   "cell_type": "code",
   "execution_count": 395,
   "metadata": {},
   "outputs": [
    {
     "data": {
      "text/plain": [
       "array([0.00100893, 0.00104498, 0.00126563, 0.00128779, 0.0012709 ,\n",
       "       0.0013727 , 0.00128839, 0.00116559, 0.00117463, 0.00114211])"
      ]
     },
     "execution_count": 395,
     "metadata": {},
     "output_type": "execute_result"
    }
   ],
   "source": []
  },
  {
   "cell_type": "code",
   "execution_count": null,
   "metadata": {},
   "outputs": [],
   "source": []
  }
 ],
 "metadata": {
  "kernelspec": {
   "display_name": "Python 3",
   "language": "python",
   "name": "python3"
  },
  "language_info": {
   "codemirror_mode": {
    "name": "ipython",
    "version": 3
   },
   "file_extension": ".py",
   "mimetype": "text/x-python",
   "name": "python",
   "nbconvert_exporter": "python",
   "pygments_lexer": "ipython3",
   "version": "3.7.4"
  }
 },
 "nbformat": 4,
 "nbformat_minor": 2
}
